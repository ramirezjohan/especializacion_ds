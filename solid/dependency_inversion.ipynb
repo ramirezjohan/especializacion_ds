{
 "cells": [
  {
   "cell_type": "markdown",
   "metadata": {},
   "source": [
    "# Principio de Inversión de Dependencias (Dependency Inversion Principle)\n",
    "\n",
    "## Introducción\n",
    "El principio de inversión de dependencias (DIP) establece que los módulos de alto nivel no deben depender de módulos de bajo nivel, sino de abstracciones. Las abstracciones no deben depender de los detalles, sino los detalles de las abstracciones.\n",
    "\n",
    "## Objetivos\n",
    "- Comprender el principio de inversión de dependencias y su impacto en la arquitectura de software.\n",
    "- Identificar dependencias rígidas en código Python.\n",
    "- Aplicar el DIP para lograr sistemas desacoplados y flexibles.\n",
    "\n",
    "## Ejemplo de la vida real\n",
    "En una empresa, los empleados (alto nivel) no dependen de un tipo específico de transporte para llegar al trabajo (bajo nivel), sino de la abstracción \"transporte\" (puede ser bus, bicicleta, auto, etc.)."
   ]
  },
  {
   "cell_type": "markdown",
   "metadata": {},
   "source": [
    "# Principio de Inversión de Dependencias (Dependency Inversion Principle, DIP)\n",
    "\n",
    "## Introducción\n",
    "\n",
    "El Principio de Inversión de Dependencias (DIP) es uno de los cinco principios SOLID de diseño orientado a objetos. Fue introducido por Robert C. Martin y establece que los módulos de alto nivel no deben depender de módulos de bajo nivel, ambos deben depender de abstracciones. Además, las abstracciones no deben depender de los detalles, los detalles deben depender de las abstracciones."
   ]
  },
  {
   "cell_type": "markdown",
   "metadata": {},
   "source": [
    "## Explicación Detallada\n",
    "\n",
    "### Definición\n",
    "\n",
    "- **DIP**: Los módulos de alto nivel no deben depender de módulos de bajo nivel. Ambos deben depender de abstracciones. Las abstracciones no deben depender de los detalles, los detalles deben depender de las abstracciones. En otras palabras, los módulos de alto nivel no deben depender de los módulos de bajo nivel, sino de abstracciones.\n",
    "\n",
    "### Beneficios del DIP\n",
    "\n",
    "1. **Flexibilidad**: Facilita el cambio de implementaciones sin afectar a los módulos de alto nivel.\n",
    "\n",
    "2. **Mantenibilidad**: Mejora la mantenibilidad del código al reducir las dependencias directas entre módulos.\n",
    "\n",
    "3. **Reusabilidad**: Promueve la creación de componentes reutilizables y desacoplados."
   ]
  },
  {
   "cell_type": "markdown",
   "metadata": {},
   "source": [
    "## Ejemplos Explicados\n",
    "\n",
    "### Ejemplo Correcto\n",
    "\n",
    "Supongamos que estamos desarrollando una aplicación para enviar notificaciones. Aplicando el DIP, podríamos tener las siguientes interfaces y clases:"
   ]
  },
  {
   "cell_type": "code",
   "execution_count": 1,
   "metadata": {},
   "outputs": [],
   "source": [
    "from abc import ABC, abstractmethod\n",
    "\n",
    "class Notifier(ABC):\n",
    "    @abstractmethod\n",
    "    def send(self, message: str) -> None:\n",
    "        pass\n",
    "\n",
    "class EmailNotifier(Notifier):\n",
    "    def send(self, message: str) -> None:\n",
    "        print(f\"Enviando email: {message}\")\n",
    "\n",
    "class SMSNotifier(Notifier):\n",
    "    def send(self, message: str) -> None:\n",
    "        print(f\"Enviando SMS: {message}\")\n",
    "\n",
    "class NotificationService:\n",
    "    def __init__(self, notifier: Notifier) -> None:\n",
    "        self.notifier: Notifier = notifier\n",
    "\n",
    "    def notify(self, message: str) -> None:\n",
    "        self.notifier.send(message)"
   ]
  },
  {
   "cell_type": "code",
   "execution_count": 2,
   "metadata": {},
   "outputs": [],
   "source": [
    "# Ejemplo de uso\n",
    "email_notifier = EmailNotifier()\n",
    "sms_notifier = SMSNotifier()"
   ]
  },
  {
   "cell_type": "code",
   "execution_count": 3,
   "metadata": {},
   "outputs": [
    {
     "name": "stdout",
     "output_type": "stream",
     "text": [
      "Enviando email: Hola por email\n",
      "Enviando SMS: Hola por SMS\n"
     ]
    }
   ],
   "source": [
    "notification_service = NotificationService(email_notifier)\n",
    "notification_service.notify(\"Hola por email\")\n",
    "\n",
    "notification_service = NotificationService(sms_notifier)\n",
    "notification_service.notify(\"Hola por SMS\")"
   ]
  },
  {
   "cell_type": "markdown",
   "metadata": {},
   "source": [
    "#### Análisis del Ejemplo Correcto\n",
    "\n",
    "- **Notifier**: Es una interfaz que define el método `send`.\n",
    "\n",
    "- **EmailNotifier** y **SMSNotifier**: Son implementaciones concretas de la interfaz `Notifier`.\n",
    "\n",
    "- **NotificationService**: Depende de la abstracción `Notifier` y no de las implementaciones concretas.\n",
    "\n",
    "Este diseño permite cambiar la implementación del notificador sin modificar el `NotificationService`."
   ]
  },
  {
   "cell_type": "markdown",
   "metadata": {},
   "source": [
    "### Ejemplo de Violación del DIP\n",
    "\n",
    "Veamos un ejemplo donde se viola el DIP:"
   ]
  },
  {
   "cell_type": "code",
   "execution_count": 4,
   "metadata": {},
   "outputs": [],
   "source": [
    "class EmailNotifier:\n",
    "    def send(self, message: str) -> None:\n",
    "        print(f\"Enviando email: {message}\")\n",
    "\n",
    "class NotificationService:\n",
    "    def __init__(self) -> None:\n",
    "        self.email_notifier = EmailNotifier()\n",
    "\n",
    "    def notify(self, message: str) -> None:\n",
    "        self.email_notifier.send(message)"
   ]
  },
  {
   "cell_type": "code",
   "execution_count": 5,
   "metadata": {},
   "outputs": [
    {
     "name": "stdout",
     "output_type": "stream",
     "text": [
      "Enviando email: Hola por email\n"
     ]
    }
   ],
   "source": [
    "# Ejemplo de uso\n",
    "notification_service = NotificationService()\n",
    "notification_service.notify(\"Hola por email\")"
   ]
  },
  {
   "cell_type": "markdown",
   "metadata": {},
   "source": [
    "#### Análisis del Ejemplo Incorrecto\n",
    "\n",
    "- **NotificationService**: Depende directamente de la implementación concreta `EmailNotifier`.\n",
    "\n",
    "- Si en el futuro queremos cambiar la implementación de `EmailNotifier` por `SMSNotifier`, deberemos modificar el `NotificationService`.\n",
    "\n",
    "Este diseño viola el DIP porque cualquier cambio en la forma de enviar notificaciones requerirá modificar el `NotificationService`."
   ]
  },
  {
   "cell_type": "markdown",
   "metadata": {},
   "source": [
    "## Conclusión\n",
    "\n",
    "1. **Desacoplamiento**: El DIP promueve el desacoplamiento entre módulos de alto y bajo nivel.\n",
    "\n",
    "2. **Flexibilidad**: Facilita el cambio de implementaciones sin afectar a los módulos de alto nivel.\n",
    "\n",
    "3. **Mantenibilidad**: Mejora la mantenibilidad del código al reducir las dependencias directas entre módulos.\n",
    "\n",
    "4. **Reusabilidad**: Promueve la creación de componentes reutilizables y desacoplados.\n",
    "\n",
    "Aplicar el DIP puede requerir la creación de interfaces y abstracciones adicionales, pero los beneficios en términos de flexibilidad y mantenibilidad del software son significativos."
   ]
  },
  {
   "cell_type": "markdown",
   "metadata": {},
   "source": [
    "## Ejercicios prácticos y preguntas de reflexión\n",
    "\n",
    "1. **Identifica dependencias rígidas**: Analiza un módulo que dependa directamente de implementaciones concretas. ¿Cómo podrías introducir una abstracción?\n",
    "2. **Refactoriza**: Usa interfaces o clases abstractas para desacoplar módulos de alto y bajo nivel.\n",
    "3. **Pregunta de reflexión**: ¿Qué ventajas aporta el DIP en proyectos donde los requisitos cambian frecuentemente?\n",
    "\n",
    "## Autoevaluación\n",
    "- ¿Mis módulos de alto nivel dependen de abstracciones y no de detalles?\n",
    "- ¿Qué patrones de diseño ayudan a implementar el DIP?\n",
    "\n",
    "## Referencias y recursos\n",
    "- [Dependency Inversion Principle – Wikipedia](https://en.wikipedia.org/wiki/Dependency_inversion_principle)\n",
    "- [SOLID Principles en Python – Real Python](https://realpython.com/solid-principles-python/)\n",
    "- [Ejemplo didáctico de DIP – Refactoring Guru](https://refactoring.guru/es/design-patterns/dependency-inversion-principle)"
   ]
  },
  {
   "cell_type": "markdown",
   "metadata": {},
   "source": [
    "## Ejercicio - No cumplimiento DIP\n",
    "_______________________________________________________________________________________________________"
   ]
  },
  {
   "cell_type": "code",
   "execution_count": 23,
   "metadata": {},
   "outputs": [],
   "source": [
    "from abc import ABC, abstractmethod\n",
    "from typing import List, Protocol\n",
    "\n",
    "class DatabaseMySQL:\n",
    "    def connect(self) -> str:\n",
    "        return \"Conectado a MySQL\"\n",
    "\n",
    "    def query(self, sql: str) -> list:\n",
    "        return [f\"Resultado MySQL: {sql}\"]\n",
    "\n",
    "class LoggerFile:\n",
    "    def write(self, message: str) -> None:\n",
    "        print(f\"Escribiendo en archivo: {message}\")\n",
    "\n",
    "class UserServiceViolacionDIP:\n",
    "    def __init__(self):\n",
    "\n",
    "        # DEPENDENCIAS CONCRETAS - ALTO ACOPLAMIENTO POR LO\n",
    "        # QUE NO SE CUMPLE EL CRITERIO DIP\n",
    "\n",
    "        self.db = DatabaseMySQL()\n",
    "        self.logger = LoggerFile()\n",
    "\n",
    "    def get_user(self, user_id: int) -> dict:\n",
    "        self.logger.write(f\"Buscando usuario {user_id}\")\n",
    "        result = self.db.query(f\"SELECT * FROM users WHERE id = {user_id}\")\n",
    "        return {\"id\": user_id, \"name\": \"Jose Joaquin\", \"data\": result}\n",
    "\n",
    "def demo_violacion_dip():\n",
    "    print(\"NO CUMPLIMIENTO DEL CRITERIO DIP\")\n",
    "    service = UserServiceViolacionDIP()\n",
    "    user = service.get_user(1)\n",
    "    print(f\"Usuario obtenido: {user}\")\n",
    "    print(\"Problema: Acoplamiento fuerte a implementaciones concretas\")"
   ]
  },
  {
   "cell_type": "markdown",
   "metadata": {},
   "source": [
    "## Ejercicio - Cumplimiento DIP\n",
    "_______________________________________________________________________________________________________"
   ]
  },
  {
   "cell_type": "code",
   "execution_count": 26,
   "metadata": {},
   "outputs": [],
   "source": [
    "class Database(Protocol):\n",
    "    def connect(self) -> str: ...\n",
    "    def query(self, sql: str) -> List[str]: ...\n",
    "\n",
    "class Logger(Protocol):\n",
    "    def write(self, message: str) -> None: ...\n",
    "\n",
    "class DatabasePostgreSQL:  # Podria ser MySQL\n",
    "    def connect(self) -> str:\n",
    "        return \"Conectado a PostgreSQL\"\n",
    "\n",
    "    def query(self, sql: str) -> List[str]:\n",
    "        return [f\"Resultado PostgreSQL: {sql}\"]\n",
    "\n",
    "class LoggerConsole:\n",
    "    def write(self, message: str) -> None:\n",
    "        print(f\"LOG: {message}\")\n",
    "\n",
    "class UserServiceDIPCorrecto:\n",
    "    def __init__(self, db: Database, logger: Logger):\n",
    "\n",
    "        # AQUI SE LE JONDEAN LAS DEPENDENCIAS -\n",
    "        # Y DADO EL BAJO ACOPLAMIENTO, SE CUMPLE EL CRITERIO DIP\n",
    "\n",
    "        self.db: Database = db\n",
    "        self.logger: Logger = logger\n",
    "\n",
    "    def get_user(self, user_id: int) -> dict:\n",
    "        self.logger.write(f\"Buscando usuario {user_id}\")\n",
    "        result = self.db.query(f\"SELECT * FROM users WHERE id = {user_id}\")\n",
    "        return {\"id\": user_id, \"name\": \"Jose Joaquin\", \"data\": result}\n",
    "\n",
    "def demo_dip_correcto():\n",
    "    print(\"\\nCUMPLIMIENTO DEL CRITERIO DIP\")\n",
    "\n",
    "    # Diferentes implementaciones con la misma interfaz\n",
    "\n",
    "    service1 = UserServiceDIPCorrecto(DatabaseMySQL(), LoggerFile())\n",
    "    service2 = UserServiceDIPCorrecto(DatabasePostgreSQL(), LoggerConsole())\n",
    "\n",
    "    user1 = service1.get_user(1)\n",
    "    user2 = service2.get_user(2)\n",
    "\n",
    "    print(f\"Usuario MySQL: {user1}\")\n",
    "    print(f\"Usuario PostgreSQL: {user2}\")\n",
    "\n",
    "#************EXTENSIBILIDAD***********#\n",
    "\n",
    "class DatabaseMongoDB:\n",
    "    def connect(self) -> str:\n",
    "        return \"Conectado a MongoDB\"\n",
    "\n",
    "    def query(self, sql: str) -> List[str]:\n",
    "        return [f\"Resultado MongoDB: {sql}\"]\n",
    "\n",
    "def demo_extensibilidad():\n",
    "    print(\"\\nEXTENSIBILIDAD\")\n",
    "\n",
    "    # Otra implementación sin modificar UserService\n",
    "\n",
    "    mongo_service = UserServiceDIPCorrecto(DatabaseMongoDB(), LoggerConsole())\n",
    "    user = mongo_service.get_user(3)\n",
    "    print(f\"Usuario con MongoDB: {user}\")\n"
   ]
  },
  {
   "cell_type": "code",
   "execution_count": 27,
   "metadata": {},
   "outputs": [
    {
     "name": "stdout",
     "output_type": "stream",
     "text": [
      "NO CUMPLIMIENTO DEL CRITERIO DIP\n",
      "Escribiendo en archivo: Buscando usuario 1\n",
      "Usuario obtenido: {'id': 1, 'name': 'Jose Joaquin', 'data': ['Resultado MySQL: SELECT * FROM users WHERE id = 1']}\n",
      "Problema: Acoplamiento fuerte a implementaciones concretas\n",
      "\n",
      "CUMPLIMIENTO DEL CRITERIO DIP\n",
      "Escribiendo en archivo: Buscando usuario 1\n",
      "LOG: Buscando usuario 2\n",
      "Usuario MySQL: {'id': 1, 'name': 'Jose Joaquin', 'data': ['Resultado MySQL: SELECT * FROM users WHERE id = 1']}\n",
      "Usuario PostgreSQL: {'id': 2, 'name': 'Jose Joaquin', 'data': ['Resultado PostgreSQL: SELECT * FROM users WHERE id = 2']}\n",
      "\n",
      "EXTENSIBILIDAD\n",
      "LOG: Buscando usuario 3\n",
      "Usuario con MongoDB: {'id': 3, 'name': 'Jose Joaquin', 'data': ['Resultado MongoDB: SELECT * FROM users WHERE id = 3']}\n"
     ]
    }
   ],
   "source": [
    "#  EJECUCIÓN DE LA JUGADA COMPLETA\n",
    "\n",
    "if __name__ == \"__main__\":\n",
    "    demo_violacion_dip()\n",
    "    demo_dip_correcto()\n",
    "    demo_extensibilidad()"
   ]
  }
 ],
 "metadata": {
  "kernelspec": {
   "display_name": "Python 3",
   "language": "python",
   "name": "python3"
  },
  "language_info": {
   "codemirror_mode": {
    "name": "ipython",
    "version": 3
   },
   "file_extension": ".py",
   "mimetype": "text/x-python",
   "name": "python",
   "nbconvert_exporter": "python",
   "pygments_lexer": "ipython3",
   "version": "3.13.7"
  }
 },
 "nbformat": 4,
 "nbformat_minor": 2
}

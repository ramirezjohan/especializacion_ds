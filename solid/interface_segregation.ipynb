{
 "cells": [
  {
   "cell_type": "markdown",
   "metadata": {},
   "source": [
    "# Principio de Segregación de Interfaces (Interface Segregation Principle)\n",
    "\n",
    "## Introducción\n",
    "El principio de segregación de interfaces (ISP) indica que los clientes no deben verse forzados a depender de interfaces que no utilizan. Es preferible tener varias interfaces específicas en lugar de una general.\n",
    "\n",
    "## Objetivos\n",
    "- Comprender el principio de segregación de interfaces y su aplicación en Python.\n",
    "- Identificar violaciones al ISP en jerarquías de clases.\n",
    "- Aplicar el ISP para crear sistemas más flexibles y desacoplados.\n",
    "\n",
    "## Ejemplo de la vida real\n",
    "En una cafetería, el menú para clientes y el menú para empleados son diferentes: cada uno ve solo lo que necesita, no todo el menú completo."
   ]
  },
  {
   "cell_type": "markdown",
   "metadata": {},
   "source": [
    "# Principio de Segregación de Interfaces (Interface Segregation Principle, ISP)\n",
    "\n",
    "## Introducción\n",
    "\n",
    "El Principio de Segregación de Interfaces (ISP) es uno de los cinco principios SOLID de diseño orientado a objetos. Fue introducido por Robert C. Martin y establece que los clientes no deberían verse obligados a depender de interfaces que no utilizan. En otras palabras, es mejor tener muchas interfaces específicas y pequeñas que una única interfaz general y grande."
   ]
  },
  {
   "cell_type": "markdown",
   "metadata": {},
   "source": [
    "## Explicación Detallada\n",
    "\n",
    "### Definición\n",
    "\n",
    "- **ISP**: Los clientes no deberían verse obligados a depender de interfaces que no utilizan.\n",
    "\n",
    "### Beneficios del ISP\n",
    "\n",
    "1. **Mantenibilidad**: Facilita la modificación del código sin afectar a los clientes que no utilizan ciertas funcionalidades.\n",
    "\n",
    "2. **Reusabilidad**: Promueve la creación de interfaces específicas y reutilizables.\n",
    "\n",
    "3. **Flexibilidad**: Permite a los clientes depender solo de las funcionalidades que realmente necesitan."
   ]
  },
  {
   "cell_type": "markdown",
   "metadata": {},
   "source": [
    "## Ejemplos Explicados\n",
    "\n",
    "### Ejemplo Correcto\n",
    "\n",
    "Supongamos que estamos desarrollando una aplicación para gestionar diferentes tipos de trabajadores. Aplicando el ISP, podríamos tener las siguientes interfaces y clases:\n"
   ]
  },
  {
   "cell_type": "code",
   "execution_count": 1,
   "metadata": {},
   "outputs": [],
   "source": [
    "from abc import ABC, abstractmethod\n",
    "\n",
    "class Worker(ABC):\n",
    "    @abstractmethod\n",
    "    def work(self) -> None:\n",
    "        pass\n",
    "\n",
    "class Eater(ABC):\n",
    "    @abstractmethod\n",
    "    def eat(self) -> None:\n",
    "        pass\n",
    "\n",
    "class Developer(Worker, Eater):\n",
    "    def work(self) -> None:\n",
    "        print(\"El desarrollador está trabajando.\")\n",
    "\n",
    "    def eat(self) -> None:\n",
    "        print(\"El desarrollador está comiendo.\")\n",
    "\n",
    "class Robot(Worker):\n",
    "    def work(self) -> None:\n",
    "        print(\"El robot está trabajando.\")"
   ]
  },
  {
   "cell_type": "code",
   "execution_count": 2,
   "metadata": {},
   "outputs": [
    {
     "name": "stdout",
     "output_type": "stream",
     "text": [
      "El desarrollador está trabajando.\n",
      "El desarrollador está comiendo.\n",
      "El robot está trabajando.\n"
     ]
    }
   ],
   "source": [
    "# Ejemplo de uso\n",
    "developer = Developer()\n",
    "robot = Robot()\n",
    "\n",
    "developer.work()\n",
    "developer.eat()\n",
    "robot.work()"
   ]
  },
  {
   "cell_type": "markdown",
   "metadata": {},
   "source": [
    "#### Análisis del Ejemplo Correcto\n",
    "\n",
    "- **Worker**: Define la interfaz para trabajar.\n",
    "\n",
    "- **Eater**: Define la interfaz para comer.\n",
    "\n",
    "- **Developer**: Implementa ambas interfaces, ya que un desarrollador puede trabajar y comer.\n",
    "\n",
    "- **Robot**: Implementa solo la interfaz `Worker`, ya que un robot solo puede trabajar.\n",
    "\n",
    "Este diseño permite que los clientes dependan solo de las interfaces que realmente necesitan. Por ejemplo, un cliente que necesita un trabajador solo necesita depender de la interfaz `Worker`."
   ]
  },
  {
   "cell_type": "markdown",
   "metadata": {},
   "source": [
    "### Ejemplo de Violación del ISP\n",
    "\n",
    "Veamos un ejemplo donde se viola el ISP:"
   ]
  },
  {
   "cell_type": "code",
   "execution_count": 3,
   "metadata": {},
   "outputs": [],
   "source": [
    "class Worker:\n",
    "    def work(self) -> None:\n",
    "        pass\n",
    "\n",
    "    def eat(self) -> None:\n",
    "        pass\n",
    "\n",
    "class Developer(Worker):\n",
    "    def work(self) -> None:\n",
    "        print(\"El desarrollador está trabajando.\")\n",
    "\n",
    "    def eat(self) -> None:\n",
    "        print(\"El desarrollador está comiendo.\")\n",
    "\n",
    "class Robot(Worker):\n",
    "    def work(self) -> None:\n",
    "        print(\"El robot está trabajando.\")\n",
    "\n",
    "    def eat(self) -> None:\n",
    "        # Los robots no comen, pero deben implementar este método\n",
    "        pass"
   ]
  },
  {
   "cell_type": "code",
   "execution_count": 4,
   "metadata": {},
   "outputs": [
    {
     "name": "stdout",
     "output_type": "stream",
     "text": [
      "El desarrollador está trabajando.\n",
      "El desarrollador está comiendo.\n",
      "El robot está trabajando.\n"
     ]
    }
   ],
   "source": [
    "# Ejemplo de uso\n",
    "developer = Developer()\n",
    "robot = Robot()\n",
    "\n",
    "developer.work()\n",
    "developer.eat()\n",
    "robot.work()\n",
    "robot.eat()  # Este método no tiene sentido para un robot"
   ]
  },
  {
   "cell_type": "markdown",
   "metadata": {},
   "source": [
    "#### Análisis del Ejemplo Incorrecto\n",
    "\n",
    "- **Worker**: Tiene métodos que no son relevantes para todos los clientes (por ejemplo, `eat` para un robot).\n",
    "\n",
    "- **Robot**: Se ve obligado a implementar el método `eat`, aunque no tiene sentido para un robot.\n",
    "\n",
    "Este diseño viola el ISP porque los clientes (en este caso, `Robot`) se ven obligados a depender de métodos que no utilizan."
   ]
  },
  {
   "cell_type": "markdown",
   "metadata": {},
   "source": [
    "## Conclusión\n",
    "\n",
    "1. **Reducción de Dependencias**: El ISP reduce las dependencias innecesarias entre los clientes y las interfaces.\n",
    "\n",
    "2. **Mantenibilidad**: Mejora la mantenibilidad del código al permitir cambios en las interfaces sin afectar a todos los clientes.\n",
    "\n",
    "3. **Reusabilidad**: Promueve la creación de interfaces específicas y reutilizables.\n",
    "\n",
    "4. **Flexibilidad**: Permite a los clientes depender solo de las funcionalidades que realmente necesitan.\n",
    "\n",
    "Aplicar el ISP puede requerir la creación de múltiples interfaces específicas, pero los beneficios en términos de flexibilidad y mantenibilidad del software son significativos."
   ]
  },
  {
   "cell_type": "markdown",
   "metadata": {},
   "source": [
    "## Ejercicios prácticos y preguntas de reflexión\n",
    "\n",
    "1. **Divide interfaces**: Observa una clase que implemente métodos que no utiliza. ¿Cómo podrías dividir la interfaz para que cada clase implemente solo lo necesario?\n",
    "2. **Refactoriza**: Crea varias interfaces pequeñas y haz que las clases implementen solo las que requieran.\n",
    "3. **Pregunta de reflexión**: ¿Qué problemas surgen cuando una clase depende de métodos que no usa?\n",
    "\n",
    "## Autoevaluación\n",
    "- ¿Mis clases implementan solo los métodos que realmente necesitan?\n",
    "- ¿Qué ventajas aporta el ISP en proyectos grandes y colaborativos?\n",
    "\n",
    "## Referencias y recursos\n",
    "- [Interface Segregation Principle – Wikipedia](https://en.wikipedia.org/wiki/Interface_segregation_principle)\n",
    "- [SOLID Principles en Python – Real Python](https://realpython.com/solid-principles-python/)\n",
    "- [Ejemplo didáctico de ISP – Refactoring Guru](https://refactoring.guru/es/design-patterns/interface-segregation-principle)"
   ]
  },
  {
   "cell_type": "markdown",
   "metadata": {},
   "source": [
    "## Ejercicio - No se cumple ISP"
   ]
  },
  {
   "cell_type": "code",
   "execution_count": null,
   "metadata": {},
   "outputs": [],
   "source": [
    "from abc import ABC, abstractmethod\n",
    "from typing import List\n",
    "\n",
    "\"\"\" Supongamos una Multifuncional Kyocera Ecosys que puede implementar\n",
    "        4 metodos, Imprimir, escanear, enviar Fax y Fotocopiar\"\"\"\n",
    "\n",
    "class Multifuncional(ABC):\n",
    "    @abstractmethod\n",
    "    def imprimir(self, documento: str) -> None:\n",
    "        pass\n",
    "\n",
    "    @abstractmethod\n",
    "    def escanear(self, documento: str) -> None:\n",
    "        pass\n",
    "\n",
    "    @abstractmethod\n",
    "    def fax(self, documento: str) -> None:\n",
    "        pass\n",
    "\n",
    "    @abstractmethod\n",
    "    def fotocopiar(self, documento: str) -> None:\n",
    "        pass"
   ]
  },
  {
   "cell_type": "code",
   "execution_count": null,
   "metadata": {},
   "outputs": [],
   "source": [
    "\n",
    "\"\"\" EN ESTAS CLASES SE IMPLEMENTAN MÉTODOS QUE NO SON NECESARIOS\n",
    "     DADO QUE EL DISPOSITIVO SOLO PUEDE IMPLEMENTAR UNO SOLO \"\"\"\n",
    "\n",
    "class Impresora_Matriz_de_puntos(Multifuncional):\n",
    "    def imprimir(self, documento: str) -> None:\n",
    "        print(f\"Imprimiendo: {documento}\")\n",
    "\n",
    "    def escanear(self, documento: str) -> None:\n",
    "        raise NotImplementedError(\"Esta impresora no puede escanear\")\n",
    "\n",
    "    def fax(self, documento: str) -> None:\n",
    "        raise NotImplementedError(\"Esta impresora no puede enviar fax\")\n",
    "\n",
    "    def fotocopiar(self, documento: str) -> None:\n",
    "        raise NotImplementedError(\"Esta impresora no puede fotocopiar\")\n",
    "\n",
    "\n",
    "class Escaner_Simple(Multifuncional):\n",
    "    def imprimir(self, documento: str) -> None:\n",
    "        raise NotImplementedError(\"Este escáner no puede imprimir\")\n",
    "\n",
    "    def escanear(self, documento: str) -> None:\n",
    "        print(f\"Escaneando: {documento}\")\n",
    "\n",
    "    def fax(self, documento: str) -> None:\n",
    "        raise NotImplementedError(\"Este escáner no puede enviar fax\")\n",
    "\n",
    "    def fotocopiar(self, documento: str) -> None:\n",
    "        raise NotImplementedError(\"Este escáner no puede fotocopiar\")\n"
   ]
  },
  {
   "cell_type": "code",
   "execution_count": 7,
   "metadata": {},
   "outputs": [],
   "source": [
    "# CÓDIGO CLIENTE AFECTADO POR LA VIOLACIÓN\n",
    "\n",
    "def procesar_documentos(dispositivos: List[Multifuncional], documento: str):\n",
    "    for dispositivo in dispositivos:\n",
    "        try:\n",
    "            dispositivo.imprimir(documento)\n",
    "            dispositivo.escanear(documento)\n",
    "            dispositivo.fax(documento)\n",
    "            dispositivo.fotocopiar(documento)\n",
    "        except NotImplementedError as e:\n",
    "            print(f\"Error: {e}\")\n"
   ]
  },
  {
   "cell_type": "code",
   "execution_count": null,
   "metadata": {},
   "outputs": [
    {
     "name": "stdout",
     "output_type": "stream",
     "text": [
      "=== VIOLACIÓN DEL ISP ===\n",
      "Dispositivos implementando métodos que no necesitan:\n",
      "Imprimiendo: contrato.pdf\n",
      "Error: Esta impresora no puede escanear\n",
      "Error: Este escáner no puede imprimir\n"
     ]
    }
   ],
   "source": [
    "# DEMOSTRACIÓN DE LA JUGADA\n",
    "\n",
    "if __name__ == \"__main__\":\n",
    "    impresora = Impresora_Matriz_de_puntos()\n",
    "    escaner = Escaner_Simple()\n",
    "\n",
    "    dispositivos = [impresora, escaner]\n",
    "\n",
    "    print(\"=== VIOLACIÓN DEL ISP ===\")\n",
    "    print(\"Dispositivos implementando métodos que no necesitan:\")\n",
    "    procesar_documentos(dispositivos, \"contrato.pdf\")"
   ]
  },
  {
   "cell_type": "markdown",
   "metadata": {},
   "source": [
    "## Si se cumple ISP"
   ]
  },
  {
   "cell_type": "code",
   "execution_count": 8,
   "metadata": {},
   "outputs": [],
   "source": [
    "from abc import ABC, abstractmethod\n",
    "from typing import List, Protocol\n",
    "\n",
    "# INTERFACES SEGREGADAS Y ESPECÍFICAS\n",
    "\n",
    "class Imprimible(Protocol):\n",
    "    def imprimir(self, documento: str) -> None: ...\n",
    "\n",
    "class Escaneable(Protocol):\n",
    "    def escanear(self, documento: str) -> None: ...\n",
    "\n",
    "class Faxeable(Protocol):\n",
    "    def fax(self, documento: str) -> None: ...\n",
    "\n",
    "class Fotocopiable(Protocol):\n",
    "    def fotocopiar(self, documento: str) -> None: ...\n"
   ]
  },
  {
   "cell_type": "code",
   "execution_count": 9,
   "metadata": {},
   "outputs": [],
   "source": [
    "# CLASES QUE IMPLEMENTAN SOLO LO QUE NECESITAN\n",
    "\n",
    "class ImpresoraBasica(Imprimible):\n",
    "    def imprimir(self, documento: str) -> None:\n",
    "        print(f\"Imprimiendo: {documento}\")\n",
    "\n",
    "class EscanerPremium(Escaneable, Imprimible):\n",
    "    def escanear(self, documento: str) -> None:\n",
    "        print(f\"Escaneando documento: {documento}\")\n",
    "\n",
    "    def imprimir(self, documento: str) -> None:\n",
    "        print(f\"Imprimiendo desde escáner: {documento}\")\n",
    "\n",
    "class MultifuncionalCompleto(Imprimible, Escaneable, Faxeable, Fotocopiable):\n",
    "    def imprimir(self, documento: str) -> None:\n",
    "        print(f\"Imprimiendo: {documento}\")\n",
    "\n",
    "    def escanear(self, documento: str) -> None:\n",
    "        print(f\"Escaneando: {documento}\")\n",
    "\n",
    "    def fax(self, documento: str) -> None:\n",
    "        print(f\"Enviando fax: {documento}\")\n",
    "\n",
    "    def fotocopiar(self, documento: str) -> None:\n",
    "        print(f\"Fotocopiando: {documento}\")"
   ]
  },
  {
   "cell_type": "code",
   "execution_count": 17,
   "metadata": {},
   "outputs": [],
   "source": [
    "# CÓDIGO CLIENTE MEJORADO\n",
    "\n",
    "def usar_impresora(impresora: Imprimible, documento: str):\n",
    "    impresora.imprimir(documento)\n",
    "\n",
    "def usar_escaner(escaner: Escaneable, documento: str):\n",
    "    escaner.escanear(documento)\n",
    "\n",
    "def procesar_dispositivos_especificos(documento: str):\n",
    "    impresora = ImpresoraBasica()\n",
    "    escaner = EscanerPremium()\n",
    "    multifuncional = MultifuncionalCompleto()\n",
    "\n",
    "    print(\"=== ISP MAS O MENOS CUMPLIDO ===\")\n",
    "    print(\"Cada dispositivo implementa solo lo que necesita:\")\n",
    "\n",
    "    print(\"\\nUsando impresora matriz de punto:\")\n",
    "    usar_impresora(impresora, documento)\n",
    "\n",
    "    print(\"\\nUsando el escáner del firme:\")\n",
    "    usar_escaner(escaner, documento)\n",
    "    usar_impresora(escaner, documento)  # El escáner también puede imprimir\n",
    "\n",
    "    print(\"\\nUsando la multifuncional completa:\")\n",
    "    multifuncional.imprimir(documento)\n",
    "    multifuncional.escanear(documento)\n",
    "    multifuncional.fax(documento)\n",
    "    multifuncional.fotocopiar(documento)"
   ]
  },
  {
   "cell_type": "code",
   "execution_count": 16,
   "metadata": {},
   "outputs": [
    {
     "name": "stdout",
     "output_type": "stream",
     "text": [
      "=== ISP MAS O MENOS CUMPLIDO ===\n",
      "Cada dispositivo implementa solo lo que necesita:\n",
      "\n",
      "Usando impresora matriz de punto:\n",
      "Imprimiendo: Una_jugada.docs\n",
      "\n",
      "Usando escáner del firme:\n",
      "Escaneando documento: Una_jugada.docs\n",
      "Imprimiendo desde escáner: Una_jugada.docs\n",
      "\n",
      "Usando la multifuncional completa:\n",
      "Imprimiendo: Una_jugada.docs\n",
      "Escaneando: Una_jugada.docs\n",
      "Enviando fax: Una_jugada.docs\n",
      "Fotocopiando: Una_jugada.docs\n"
     ]
    }
   ],
   "source": [
    "# DEMOSTRACIÓN DE LA SOLUCIÓN\n",
    "\n",
    "if __name__ == \"__main__\":\n",
    "    procesar_dispositivos_especificos(\"Una_jugada.docs\")"
   ]
  }
 ],
 "metadata": {
  "kernelspec": {
   "display_name": "Python 3",
   "language": "python",
   "name": "python3"
  },
  "language_info": {
   "codemirror_mode": {
    "name": "ipython",
    "version": 3
   },
   "file_extension": ".py",
   "mimetype": "text/x-python",
   "name": "python",
   "nbconvert_exporter": "python",
   "pygments_lexer": "ipython3",
   "version": "3.13.7"
  }
 },
 "nbformat": 4,
 "nbformat_minor": 2
}
